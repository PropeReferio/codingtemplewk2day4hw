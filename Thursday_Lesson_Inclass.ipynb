{
 "cells": [
  {
   "cell_type": "markdown",
   "metadata": {},
   "source": [
    "# Object-Oriented-Programming (OOP)"
   ]
  },
  {
   "cell_type": "markdown",
   "metadata": {},
   "source": [
    "## Tasks Today:\n",
    "\n",
    "<b>Bonus Topics</b>\n",
    "<br>\n",
    "- Common DataStructure\n",
    "    -Linked List\n",
    "    \n",
    "\n",
    "1) <b>Creating a Class (Initializing/Declaring)</b> <br>\n",
    "2) <b>Using a Class (Instantiating)</b> <br>\n",
    " &nbsp;&nbsp;&nbsp;&nbsp; a) Creating One Instance <br>\n",
    " &nbsp;&nbsp;&nbsp;&nbsp; b) Creating Multiple Instances <br>\n",
    " &nbsp;&nbsp;&nbsp;&nbsp; c) In-Class Exercise #1 - Create a Class 'Car' and instantiate three different makes of cars <br>\n",
    "3) <b>The \\__init\\__() Method</b> <br>\n",
    " &nbsp;&nbsp;&nbsp;&nbsp; a) The 'self' Attribute <br>\n",
    "4) <b>Class Attributes</b> <br>\n",
    " &nbsp;&nbsp;&nbsp;&nbsp; a) Initializing Attributes <br>\n",
    " &nbsp;&nbsp;&nbsp;&nbsp; b) Setting an Attribute Outside of the \\__init\\__() Method <br>\n",
    " &nbsp;&nbsp;&nbsp;&nbsp; c) Setting Defaults for Attributes <br>\n",
    " &nbsp;&nbsp;&nbsp;&nbsp; d) Accessing Class Attributes <br>\n",
    " &nbsp;&nbsp;&nbsp;&nbsp; e) Changing Class Attributes <br>\n",
    " &nbsp;&nbsp;&nbsp;&nbsp; f) In-Class Exercise #2 - Add a color and wheels attribute to your 'Car' class <br>\n",
    "5) <b>Class Methods</b> <br>\n",
    " &nbsp;&nbsp;&nbsp;&nbsp; a) Creating <br>\n",
    " &nbsp;&nbsp;&nbsp;&nbsp; b) Calling <br>\n",
    " &nbsp;&nbsp;&nbsp;&nbsp; c) Modifying an Attribute's Value Through a Method <br>\n",
    " &nbsp;&nbsp;&nbsp;&nbsp; d) Incrementing an Attribute's Value Through a Method <br>\n",
    " &nbsp;&nbsp;&nbsp;&nbsp; e) In-Class Exercise #3 - Add a method that prints the cars color and wheel number, then call them <br>\n",
    "6) <b>Inheritance</b> <br>\n",
    " &nbsp;&nbsp;&nbsp;&nbsp; a) Syntax for Inheriting from a Parent Class <br>\n",
    " &nbsp;&nbsp;&nbsp;&nbsp; b) The \\__init\\__() Method for a Child Class (super()) <br>\n",
    " &nbsp;&nbsp;&nbsp;&nbsp; c) Defining Attributes and Methods for the Child Class <br>\n",
    " &nbsp;&nbsp;&nbsp;&nbsp; d) Method Overriding <br>\n",
    " &nbsp;&nbsp;&nbsp;&nbsp; e) In-Class Exercise #4 - Create a class 'Ford' that inherits from 'Car' class and initialize it as a Blue Ford Explorer with 4 wheels using the super() method <br>\n",
    "7) <b>Classes as Attributes</b> <br>\n",
    "8) <b>Exercises</b> <br>\n",
    " &nbsp;&nbsp;&nbsp;&nbsp; a) Exercise #1 - Turn the shopping cart program from yesterday into an object-oriented program <br>"
   ]
  },
  {
   "cell_type": "code",
   "execution_count": 2,
   "metadata": {},
   "outputs": [
    {
     "name": "stdout",
     "output_type": "stream",
     "text": [
      "Here is your cart: \n",
      "Shirt\n",
      "Lawnmower\n",
      "Big Gulp\n",
      "Peregrine 65\n"
     ]
    }
   ],
   "source": [
    "#Shopping Cart Example - HW Day 3\n",
    "\n",
    "from IPython.display import clear_output\n",
    "\n",
    "# Creating Global List\n",
    "\n",
    "cart =[]\n",
    "def addItem(item):\n",
    "    clear_output()\n",
    "    cart.append(item)\n",
    "    \n",
    "#Remove from Cart\n",
    "def removeItem(item):\n",
    "    clear_output()\n",
    "    cart.remove(item)\n",
    "    \n",
    "def showCart():\n",
    "    clear_output()\n",
    "    print('Here is your cart: ')\n",
    "    for item in cart:\n",
    "        print(item)\n",
    "        \n",
    "#Clear Cart\n",
    "def clearCart():\n",
    "    clear_output()\n",
    "    print(\"Your cart is now empty.\")\n",
    "    cart.clear() #Makes a list empty\n",
    "    \n",
    "#Creating a function with a loop that continues to ask user until the user quits.\n",
    "# Using ALL of the above functions inside of the function below.\n",
    "\n",
    "def shoppingCart():\n",
    "    while True:\n",
    "        response = input('You can: quit/ add/ remove/ show/ or clear')\n",
    "        \n",
    "        #Base Case\n",
    "        if response.lower() == 'quit':\n",
    "            print(\"Thanks for using ShopCart!\")\n",
    "            showCart()\n",
    "            break\n",
    "        elif response.lower() == 'add':\n",
    "            item = input(\"What would you like to add?\")\n",
    "            addItem(item)\n",
    "        elif response.lower() == 'remove':\n",
    "            showCart()\n",
    "            item = input(\"What would you like to remove?\")\n",
    "            removeItem(item)\n",
    "        elif response.lower() == 'show':\n",
    "            showCart()\n",
    "        elif response.lower() == 'clear':\n",
    "            clearCart()\n",
    "        else:\n",
    "            print(\"Sorry, I didn't understand that command.\")\n",
    "\n",
    "shoppingCart()"
   ]
  },
  {
   "cell_type": "code",
   "execution_count": null,
   "metadata": {},
   "outputs": [],
   "source": []
  },
  {
   "cell_type": "markdown",
   "metadata": {},
   "source": [
    "## Creating a Class (Initializing/Declaring)\n",
    "<p>When creating a class, function, or even a variable you are initializing that object. Initializing and Declaring occur at the same time in Python, whereas in lower level languages you have to declare an object before initializing it. This is the first step in the process of using a class.</p>"
   ]
  },
  {
   "cell_type": "code",
   "execution_count": 3,
   "metadata": {},
   "outputs": [],
   "source": [
    "# We want to use classes to 1) Mimic real world objects,\n",
    "                        #   2) or Encapsulate a ton of code.\n",
    "    \n",
    "class Car():\n",
    "    wheels = 4\n",
    "    color = 'Blue'\n",
    "    "
   ]
  },
  {
   "cell_type": "markdown",
   "metadata": {},
   "source": [
    "## Using a Class (Instantiating)\n",
    "<p>The process of creating a class is called <i>Instantiating</i>. Each time you create a variable of that type of class, it is referred to as an <i>Instance</i> of that class. This is the second step in the process of using a class.</p>"
   ]
  },
  {
   "cell_type": "markdown",
   "metadata": {},
   "source": [
    "##### Creating One Instance"
   ]
  },
  {
   "cell_type": "code",
   "execution_count": 4,
   "metadata": {},
   "outputs": [],
   "source": [
    "ford = Car()"
   ]
  },
  {
   "cell_type": "markdown",
   "metadata": {},
   "source": [
    "##### Creating Multiple Instances"
   ]
  },
  {
   "cell_type": "code",
   "execution_count": 8,
   "metadata": {},
   "outputs": [
    {
     "name": "stdout",
     "output_type": "stream",
     "text": [
      "4\n"
     ]
    }
   ],
   "source": [
    "chevy = Car()\n",
    "honda = Car()\n",
    "porsche = Car()\n",
    "\n",
    "porsche.color\n",
    "x = honda.wheels\n",
    "print(x)"
   ]
  },
  {
   "cell_type": "markdown",
   "metadata": {},
   "source": [
    "##### In-Class Exercise #1 - Create a Class 'Car' and Instantiate three different makes of cars"
   ]
  },
  {
   "cell_type": "code",
   "execution_count": 12,
   "metadata": {},
   "outputs": [
    {
     "name": "stdout",
     "output_type": "stream",
     "text": [
      "5 fuschia sunRoof\n"
     ]
    }
   ],
   "source": [
    "class Car(): #This is creating the class\n",
    "    doors = 5\n",
    "    color = 'fuschia' #These are attributes of the class, sometimes known as constants\n",
    "    rooftype = 'sunRoof'\n",
    "    \n",
    "subaru = Car() #This is instantiation\n",
    "ferrari = Car()\n",
    "renault = Car()\n",
    "\n",
    "x = subaru.doors\n",
    "y = ferrari.color\n",
    "z = renault.rooftype\n",
    "\n",
    "print(x,y,z)"
   ]
  },
  {
   "cell_type": "markdown",
   "metadata": {},
   "source": [
    "## The \\__init\\__() Method <br>\n",
    "<p>This method is used in almost every created class, and called only once upon the creation of the class instance. This method will initialize all variables needed for the object.</p>"
   ]
  },
  {
   "cell_type": "code",
   "execution_count": 17,
   "metadata": {},
   "outputs": [
    {
     "name": "stdout",
     "output_type": "stream",
     "text": [
      "2\n"
     ]
    }
   ],
   "source": [
    "class Car():\n",
    "    engine = '4.7L' #These are constants\n",
    "    \n",
    "    #Create the Constructor AKA the __init__ method\n",
    "    def __init__(self, wheels): #If self is omitted, you'll get this error:\n",
    "        #TypeError: __init__() takes 1 positional argument but 2 were given\n",
    "        \n",
    "        self.wheels = wheels #These are also attributes, but those inside the init method cannot be omitted\n",
    "        self.color = 'Blue'\n",
    "        \n",
    "ford = Car(4) # 4 is passed to parameter wheels in the __init__ method, if omitted,\n",
    "#You'll get a TypeError that says you're missing 1 positional required argument\n",
    "\n",
    "class Toy():\n",
    "    kind = \"Car\"\n",
    "    \n",
    "    def __init__(self,rooftop,horn,wheels):\n",
    "        self.rooftop = rooftop\n",
    "        self.horn = horn\n",
    "        self.wheels = wheels\n",
    "        \n",
    "Tonka_truck = Toy(1,1,4) #1 is rooftop, 1 is horn, 4 is wheels, self automatically\n",
    "#is passed an argument somehow\n",
    "hotwheels_car = Toy(0,1,2) #Defective, lacking a roof and missing two wheels\n",
    "        \n",
    "Tonka_truck.wheels\n",
    "print(hotwheels_car.wheels)"
   ]
  },
  {
   "cell_type": "markdown",
   "metadata": {},
   "source": [
    "##### The 'self' Attribute <br>\n",
    "<p>This attribute is required to keep track of specific instance's attributes. Without the self attribute, the program would not know how to reference or keep track of an instance's attributes.</p>"
   ]
  },
  {
   "cell_type": "code",
   "execution_count": null,
   "metadata": {},
   "outputs": [],
   "source": [
    "# see above"
   ]
  },
  {
   "cell_type": "markdown",
   "metadata": {},
   "source": [
    "## Class Attributes <br>\n",
    "<p>While variables are inside of a class, they are referred to as attributes and not variables. When someone says 'attribute' you know they're speaking about a class. Attributes can be initialized through the init method, or outside of it.</p>"
   ]
  },
  {
   "cell_type": "markdown",
   "metadata": {},
   "source": [
    "##### Initializing Attributes"
   ]
  },
  {
   "cell_type": "code",
   "execution_count": null,
   "metadata": {},
   "outputs": [],
   "source": [
    "# see above"
   ]
  },
  {
   "cell_type": "markdown",
   "metadata": {},
   "source": [
    "##### Accessing Class Attributes"
   ]
  },
  {
   "cell_type": "code",
   "execution_count": null,
   "metadata": {
    "scrolled": true
   },
   "outputs": [],
   "source": []
  },
  {
   "cell_type": "markdown",
   "metadata": {},
   "source": [
    "##### Setting Defaults for Attributes"
   ]
  },
  {
   "cell_type": "code",
   "execution_count": null,
   "metadata": {},
   "outputs": [],
   "source": []
  },
  {
   "cell_type": "markdown",
   "metadata": {},
   "source": [
    "##### Changing Class Attributes <br>\n",
    "<p>Keep in mind there are global class attributes and then there are attributes only available to each class instance which won't effect other classes.</p>"
   ]
  },
  {
   "cell_type": "code",
   "execution_count": 19,
   "metadata": {},
   "outputs": [
    {
     "data": {
      "text/plain": [
       "'truck'"
      ]
     },
     "execution_count": 19,
     "metadata": {},
     "output_type": "execute_result"
    }
   ],
   "source": [
    "Tonka_truck.kind = \"truck\"\n",
    "Tonka_truck.kind"
   ]
  },
  {
   "cell_type": "code",
   "execution_count": null,
   "metadata": {},
   "outputs": [],
   "source": []
  },
  {
   "cell_type": "code",
   "execution_count": null,
   "metadata": {},
   "outputs": [],
   "source": [
    "#In class exercise #2: Add doors and seats to a new 'Car' class,\n",
    "#then print out two different instances with different doors and seats."
   ]
  },
  {
   "cell_type": "code",
   "execution_count": 24,
   "metadata": {},
   "outputs": [
    {
     "name": "stdout",
     "output_type": "stream",
     "text": [
      "9\n",
      "11\n"
     ]
    }
   ],
   "source": [
    "class Car():\n",
    "    color = 'Blue'\n",
    "    \n",
    "    def __init__(self, doors, seats):\n",
    "        self.doors = doors\n",
    "        self.seats = seats\n",
    "        \n",
    "corvette = Car(2, 2)\n",
    "Momvan = Car(5, 9)\n",
    "\n",
    "print(Momvan.seats)\n",
    "\n",
    "Momvan.seats = 11\n",
    "print(Momvan.seats)"
   ]
  },
  {
   "cell_type": "markdown",
   "metadata": {},
   "source": [
    "## Class Methods <br>\n",
    "<p>While inside of a class, functions are referred to as 'methods'. If you hear someone mention methods, they're speaking about classes. Methods are essentially functions, but only callable on the instances of a class.</p>"
   ]
  },
  {
   "cell_type": "markdown",
   "metadata": {},
   "source": [
    "##### Creating"
   ]
  },
  {
   "cell_type": "code",
   "execution_count": 25,
   "metadata": {},
   "outputs": [
    {
     "name": "stdout",
     "output_type": "stream",
     "text": [
      "You have items in your Bag!\n",
      "What would you like to add?Bananas\n",
      "You have items in your Bag!\n",
      "Bananas\n"
     ]
    }
   ],
   "source": [
    "class ShoppingBag():\n",
    "    def __init__(self,handles,capacity,items):\n",
    "        self.handles = handles\n",
    "        self.capacity = capacity\n",
    "        self.items = items\n",
    "        \n",
    "    # Create a method that shoes the shoppingBag\n",
    "    def showShoppingBag(self):\n",
    "        print(\"You have items in your Bag!\")\n",
    "        for item in self.items:\n",
    "            print(item)\n",
    "            \n",
    "    # show The Capacity of shoppingBag\n",
    "    def showCapacity(self):\n",
    "        print(\"Your Capacity is {}\".format(self.capacity))\n",
    "    \n",
    "    def addToShoppingBag(self):\n",
    "        products = input(\"What would you like to add?\")\n",
    "        self.items.append(products)\n",
    "        \n",
    "    def changeBagCapacity(self,capacity):\n",
    "        self.capacity = capacity\n",
    "        \n",
    "    def increaseCapacity(self):\n",
    "        if self.capacity == isinstance(self.capacity, str):\n",
    "            print(\"We don't do that here...\")\n",
    "        else: \n",
    "            self.capacity += 10\n",
    "            \n",
    "aldi_bag = ShoppingBag(2,\"Large\",[])\n",
    "aldi_bag.showShoppingBag()\n",
    "aldi_bag.addToShoppingBag()\n",
    "aldi_bag.showShoppingBag()"
   ]
  },
  {
   "cell_type": "markdown",
   "metadata": {},
   "source": [
    "##### Calling"
   ]
  },
  {
   "cell_type": "code",
   "execution_count": null,
   "metadata": {},
   "outputs": [],
   "source": [
    "# See Above"
   ]
  },
  {
   "cell_type": "markdown",
   "metadata": {},
   "source": [
    "##### Modifying an Attribute's Value Through a Method"
   ]
  },
  {
   "cell_type": "code",
   "execution_count": 26,
   "metadata": {},
   "outputs": [
    {
     "name": "stdout",
     "output_type": "stream",
     "text": [
      "Your Capacity is Large\n",
      "Capacity AFTER the change...\n",
      "Your Capacity is 10\n"
     ]
    }
   ],
   "source": [
    "aldi_bag.showCapacity()\n",
    "print(\"Capacity AFTER the change...\")\n",
    "aldi_bag.changeBagCapacity(10)\n",
    "aldi_bag.showCapacity()"
   ]
  },
  {
   "cell_type": "markdown",
   "metadata": {},
   "source": [
    "##### Incrementing an Attribute's Value Through a Method"
   ]
  },
  {
   "cell_type": "raw",
   "metadata": {},
   "source": []
  },
  {
   "cell_type": "code",
   "execution_count": 27,
   "metadata": {},
   "outputs": [
    {
     "name": "stdout",
     "output_type": "stream",
     "text": [
      "Your Capacity is 20\n"
     ]
    }
   ],
   "source": [
    "# proper way of incrementing an attribute\n",
    "aldi_bag.increaseCapacity()\n",
    "aldi_bag.showCapacity()\n"
   ]
  },
  {
   "cell_type": "markdown",
   "metadata": {},
   "source": [
    "##### In-Class Exercise #3 - Add a method that takes in three parameters of year, doors and seats and prints out a formatted print statement with make, model, year, seats, and doors"
   ]
  },
  {
   "cell_type": "code",
   "execution_count": 52,
   "metadata": {},
   "outputs": [
    {
     "name": "stdout",
     "output_type": "stream",
     "text": [
      "This is a 1996 Honda Civic with 4 doors and 3 seats.\n"
     ]
    }
   ],
   "source": [
    "class newCar():\n",
    "    def __init__(self, make, model):\n",
    "        self.make = make\n",
    "        self.model = model\n",
    "    \n",
    "    def printCar(self, year, doors, seats):\n",
    "        print('This is a {} {} {} with {} doors and {} seats.'.format(year, self.make, self.model, doors, seats))\n",
    "       \n",
    "dailydriver = newCar('Honda', 'Civic')\n",
    "dailydriver.printCar(1996, 4, 3)"
   ]
  },
  {
   "cell_type": "markdown",
   "metadata": {},
   "source": [
    "## Inheritance <br>\n",
    "<p>You can create a child-parent relationship between two classes by using inheritance. What this allows you to do is have overriding methods, but also inherit traits from the parent class. Think of it as an actual parent and child, the child will inherit the parent's genes, as will the classes in OOP</p>"
   ]
  },
  {
   "cell_type": "markdown",
   "metadata": {},
   "source": [
    "##### Syntax for Inheriting from a Parent Class"
   ]
  },
  {
   "cell_type": "code",
   "execution_count": 58,
   "metadata": {},
   "outputs": [
    {
     "name": "stdout",
     "output_type": "stream",
     "text": [
      "This Dog is Black and his name is Max\n",
      "9.8\n",
      "15\n",
      "Bark!!\n"
     ]
    }
   ],
   "source": [
    "class Animal(): #This is the parent class that class 'dog' will inherit attributes from\n",
    "    acceleration = 9.8\n",
    "    \n",
    "    def __init__(self,name,species,legs=4):\n",
    "        self.name = name\n",
    "        self.species = species\n",
    "        self.legs = legs\n",
    "        \n",
    "    def makeSound(self):\n",
    "        print('Some Generic Sound')\n",
    "        \n",
    "class Dog(Animal):\n",
    "    speed = 15\n",
    "    \n",
    "    def __init__(self,name,species,color,legs=4):\n",
    "        #super().__init__(name,species,legs) is the same as line below\n",
    "        #super().__init__ is efficient when class Dog(Animal, Mammal, Quadriped, etc.)\n",
    "        Animal.__init__(self,name,species,legs) #Inherits these things from the Animal init method.\n",
    "        #You don't have to inherit everything form the init method, you can pick and choose.\n",
    "        #But everything OUTSIDE THe animal init method is inherited, acceleration and makeSound()\n",
    "        #in this case.\n",
    "        self.color = color\n",
    "        \n",
    "    def PrintInfo(self):\n",
    "        print('This Dog is {} and his name is {}'.format(self.color,self.name))\n",
    "        \n",
    "    def makeSound(self): #makeSound is overwritten here\n",
    "        print('Bark!!')\n",
    "    \n",
    "dog = Dog('Max','Canine','Black')\n",
    "\n",
    "dog.PrintInfo()\n",
    "print(dog.acceleration)\n",
    "print(dog.speed)\n",
    "dog.makeSound()"
   ]
  },
  {
   "cell_type": "markdown",
   "metadata": {},
   "source": [
    "##### The \\__init\\__() Method for a Child Class - super()"
   ]
  },
  {
   "cell_type": "code",
   "execution_count": null,
   "metadata": {
    "scrolled": true
   },
   "outputs": [],
   "source": []
  },
  {
   "cell_type": "markdown",
   "metadata": {},
   "source": [
    "##### Defining Attributes and Methods for the Child Class"
   ]
  },
  {
   "cell_type": "code",
   "execution_count": null,
   "metadata": {},
   "outputs": [],
   "source": [
    "# See Above"
   ]
  },
  {
   "cell_type": "markdown",
   "metadata": {},
   "source": [
    "##### Method Overriding"
   ]
  },
  {
   "cell_type": "code",
   "execution_count": null,
   "metadata": {},
   "outputs": [],
   "source": [
    "# See Above"
   ]
  },
  {
   "cell_type": "markdown",
   "metadata": {},
   "source": [
    "##### In-Class Exercise #4 - Create a class 'Ford' that inherits from 'Car' class and initialize it as a Blue Ford Explorer with 4 wheels using the super() method, add a method to car which prints 'this is a car' and create an overriding method in class Ford that prints the information on the car"
   ]
  },
  {
   "cell_type": "code",
   "execution_count": 98,
   "metadata": {},
   "outputs": [
    {
     "name": "stdout",
     "output_type": "stream",
     "text": [
      "This Blue Ford Explorer is from 2014 and has 4 wheels.\n"
     ]
    }
   ],
   "source": [
    "class Car():\n",
    "    \n",
    "    \n",
    "    def __init__(self, wheels, color, sunroof=''): #Optional arguments are how you\n",
    "        #don't inherit with children classes\n",
    "        self.wheels = wheels \n",
    "        self.color = color\n",
    "        self.sunroof = sunroof\n",
    "        \n",
    "    def printCar(self):\n",
    "        print('this is a car')\n",
    "\n",
    "class Ford(Car):\n",
    "    make = 'Ford'\n",
    "    \n",
    "    def __init__(self,   wheels, color, model, doors, seats, year):\n",
    "        super().__init__(wheels, color)\n",
    "        self.model = model\n",
    "        self.doors = doors\n",
    "        self.seats = seats\n",
    "        self.year = year\n",
    "    \n",
    "    def printCar(self):\n",
    "        print('This {} {} {} is from {} and has {} wheels.'.format(self.color,self.make,\\\n",
    "                    self.model,self.year,self.wheels))\n",
    "mySUV = Ford(4,'Blue','Explorer',4,5,2014)\n",
    "\n",
    "mySUV.printCar()\n",
    "\n",
    "#Blue Ford Explorer 4 wheels (wheels and color are inherited)\n",
    "#How do I NOT inherit certain attributes? Optional parameters in parent __init__ method"
   ]
  },
  {
   "cell_type": "markdown",
   "metadata": {},
   "source": [
    "## Classes as Attributes <br>\n",
    "<p>Classes can also be used as attributes within another class. This is useful in situations where you need to keep variables locally stored, instead of globally stored.</p>"
   ]
  },
  {
   "cell_type": "code",
   "execution_count": 61,
   "metadata": {},
   "outputs": [
    {
     "name": "stdout",
     "output_type": "stream",
     "text": [
      "7.8\n",
      "20\n"
     ]
    }
   ],
   "source": [
    "class Battery():\n",
    "    volts = 7.8\n",
    "    \n",
    "    def __init__(self,cells):\n",
    "        self.cells = cells\n",
    "        \n",
    "class Car():\n",
    "    def __init__(self,year,make,model,battery):\n",
    "        self.year = year\n",
    "        self.make = make\n",
    "        self.model = model\n",
    "        self.battery = battery \n",
    "        \n",
    "bat = Battery(20) #ins\n",
    "\n",
    "tesla = Car(2019, 'Tesla', 'Model X', bat) #bat here is the instantiated class Battery with 20 cells.\n",
    "#bat is passed to __init__ from class Car and stored in self.battery\n",
    "print(tesla.battery.volts) #we ask for the attribute volts which is an attribute of battery which is an attribute tesla\n",
    "print(tesla.battery.cells) #we ask for the attribute cells which is an attribute of battery which is an attribute tesla"
   ]
  },
  {
   "cell_type": "markdown",
   "metadata": {},
   "source": [
    "# Exercises"
   ]
  },
  {
   "cell_type": "markdown",
   "metadata": {},
   "source": [
    "### Exercise 1 - Turn the shopping cart program from yesterday into an object-oriented program\n",
    "\n",
    "The comments in the cell below are there as a guide for thinking about the problem. However, if you feel a different way is best for you and your own thought process, please do what feels best for you by all means."
   ]
  },
  {
   "cell_type": "code",
   "execution_count": 12,
   "metadata": {},
   "outputs": [
    {
     "name": "stdout",
     "output_type": "stream",
     "text": [
      "What would you like to do? Commands: \n",
      "add,\n",
      "remove,            \n",
      "show,\n",
      "quit: add\n",
      "Which product would you like to add?bananas\n",
      "What would you like to do? Commands: \n",
      "add,\n",
      "remove,            \n",
      "show,\n",
      "quit: peaches\n",
      "What would you like to do? Commands: \n",
      "add,\n",
      "remove,            \n",
      "show,\n",
      "quit: add\n",
      "Which product would you like to add?peaches\n",
      "What would you like to do? Commands: \n",
      "add,\n",
      "remove,            \n",
      "show,\n",
      "quit: show\n",
      "Here's your cart: \n",
      "bananas\n",
      "peaches\n",
      "What would you like to do? Commands: \n",
      "add,\n",
      "remove,            \n",
      "show,\n",
      "quit: quit\n",
      "Here's your cart: \n",
      "bananas\n",
      "peaches\n"
     ]
    }
   ],
   "source": [
    "# Create a class called cart that retains items and has methods to add, remove, and show\n",
    "\n",
    "class Cart():\n",
    "    \n",
    "    def __init__(self, items):\n",
    "        self.items = items\n",
    "        \n",
    "    def printcart(self):\n",
    "        print(\"Here's your cart: \")\n",
    "        for item in self.items:\n",
    "            print(item)\n",
    "            \n",
    "    def removecart(self):\n",
    "        while True:\n",
    "            printcart(self.items)\n",
    "            remove = input('Which product would you like to remove?(Type \"exit\" to return to cart)')\n",
    "            if remove.lower() == \"exit\":\n",
    "                break\n",
    "            elif remove in self.items:\n",
    "                self.items.remove(remove)\n",
    "            else:\n",
    "                print(\"That product isn't in your cart.\")\n",
    "            \n",
    "    def addcart(self):\n",
    "        self.items.append(input('Which product would you like to add?'))\n",
    "    \n",
    "    def Shop(self):\n",
    "        while True:\n",
    "            response = input('What would you like to do? Commands: \\nadd,\\nremove,\\\n",
    "            \\nshow,\\nquit: ')\n",
    "            if response.lower() == 'quit':\n",
    "                self.printcart()\n",
    "                break\n",
    "            if response.lower() == 'add':\n",
    "                self.addcart()\n",
    "            if response.lower() == 'remove':\n",
    "                self.removecart()\n",
    "            if response.lower() == 'show':\n",
    "                self.printcart()\n",
    "                \n",
    "shopping = Cart([])\n",
    "shopping.Shop()"
   ]
  }
 ],
 "metadata": {
  "kernelspec": {
   "display_name": "Python 3",
   "language": "python",
   "name": "python3"
  },
  "language_info": {
   "codemirror_mode": {
    "name": "ipython",
    "version": 3
   },
   "file_extension": ".py",
   "mimetype": "text/x-python",
   "name": "python",
   "nbconvert_exporter": "python",
   "pygments_lexer": "ipython3",
   "version": "3.7.4"
  }
 },
 "nbformat": 4,
 "nbformat_minor": 2
}
